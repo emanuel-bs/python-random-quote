{
 "cells": [
  {
   "cell_type": "markdown",
   "metadata": {},
   "source": [
    "# Python 101\n",
    "----------------------------------------------------------------------------\n",
    "## Goals:\n",
    "* Learn basic Python operations\n",
    "* Understand differences in data structures\n",
    "* Get familiarized with conditional statements and loops\n",
    "* Learn to create custom functions and import python modules\n",
    "\n",
    "\n",
    "Fonte: https://infosecjupyterbook.com/"
   ]
  },
  {
   "cell_type": "markdown",
   "metadata": {},
   "source": [
    "**Main Reference:** McKinney, Wes. Python for Data Analysis: Data Wrangling with Pandas, NumPy, and IPython. O'Reilly Media. Kindle Edition\n",
    "\n",
    "## Indentation\n",
    "Python code is structured by indentation (tabs or spaces) instead of braces which is what other languages normally use. In addition, a colon (:) is used to define the start of an indented code block."
   ]
  },
  {
   "cell_type": "code",
   "execution_count": 1,
   "metadata": {
    "tags": []
   },
   "outputs": [
    {
     "output_type": "stream",
     "name": "stdout",
     "text": "One number per loop..\n0\nOne number per loop..\n1\nOne number per loop..\n2\nOne number per loop..\n3\nThe number is greater than 2\n----------------------------\nOne number per loop..\n4\nThe number is greater than 2\n----------------------------\n"
    }
   ],
   "source": [
    "for x in list(range(5)):\n",
    "    print(\"One number per loop..\")\n",
    "    print(x)\n",
    "    if x > 2:\n",
    "        print(\"The number is greater than 2\")\n",
    "        print(\"----------------------------\")"
   ]
  },
  {
   "cell_type": "markdown",
   "metadata": {},
   "source": [
    "## Everything is an Object\n",
    "* Everything in Python is considered an object.\n",
    "* A string, a list, a function and even a number is an object.\n",
    "* For example, you can define a variable to reference a string and then access the methods available for the string object.\n",
    "* If you press the tab key after the variable name and period, you will see the methods available for it."
   ]
  },
  {
   "cell_type": "code",
   "execution_count": 1,
   "metadata": {},
   "outputs": [],
   "source": [
    "a = \"pedro\""
   ]
  },
  {
   "cell_type": "code",
   "execution_count": 2,
   "metadata": {},
   "outputs": [
    {
     "output_type": "execute_result",
     "data": {
      "text/plain": "'Pedro'"
     },
     "metadata": {},
     "execution_count": 2
    }
   ],
   "source": [
    "a.capitalize()"
   ]
  },
  {
   "cell_type": "markdown",
   "metadata": {},
   "source": [
    "## Variables\n",
    "In Python, when you define/create a variable, you are basically creating a reference to an object (i.e string,list,etc). If you want to define/create a new variable from the original variable, you will be creating another reference to the original object rather than copying the contents of the first variable to the second one. "
   ]
  },
  {
   "cell_type": "code",
   "execution_count": 3,
   "metadata": {},
   "outputs": [
    {
     "output_type": "execute_result",
     "data": {
      "text/plain": "[1, 2, 3]"
     },
     "metadata": {},
     "execution_count": 3
    }
   ],
   "source": [
    "a = [1,2,3]\n",
    "b = a\n",
    "b"
   ]
  },
  {
   "cell_type": "markdown",
   "metadata": {},
   "source": [
    "Therefore, if you update the original variable (a), the new variable (b) will automatically reference the updated object."
   ]
  },
  {
   "cell_type": "code",
   "execution_count": 4,
   "metadata": {},
   "outputs": [
    {
     "output_type": "execute_result",
     "data": {
      "text/plain": "[1, 2, 3, 4]"
     },
     "metadata": {},
     "execution_count": 4
    }
   ],
   "source": [
    "a.append(4)\n",
    "b"
   ]
  },
  {
   "cell_type": "markdown",
   "metadata": {},
   "source": [
    "A variable can have a short name (like x and y) or a more descriptive name (age, dog, owner).\n",
    "Rules for Python variables:\n",
    "* A variable name must start with a letter or the underscore character\n",
    "* A variable name cannot start with a number\n",
    "* A variable name can only contain alpha-numeric characters and underscores (A-z, 0-9, and _ )\n",
    "* Variable names are case-sensitive (age, Age and AGE are three different variables)\n",
    "\n",
    "Reference:https://www.w3schools.com/python/python_variables.asp"
   ]
  },
  {
   "cell_type": "code",
   "execution_count": 5,
   "metadata": {},
   "outputs": [],
   "source": [
    "dog_name = 'Pedro'\n",
    "age = 3\n",
    "is_vaccinated = True\n",
    "birth_year = 2015"
   ]
  },
  {
   "cell_type": "code",
   "execution_count": 6,
   "metadata": {},
   "outputs": [
    {
     "output_type": "execute_result",
     "data": {
      "text/plain": "True"
     },
     "metadata": {},
     "execution_count": 6
    }
   ],
   "source": [
    "is_vaccinated"
   ]
  },
  {
   "cell_type": "code",
   "execution_count": 7,
   "metadata": {},
   "outputs": [
    {
     "output_type": "execute_result",
     "data": {
      "text/plain": "'Pedro'"
     },
     "metadata": {},
     "execution_count": 7
    }
   ],
   "source": [
    "dog_name"
   ]
  },
  {
   "cell_type": "markdown",
   "metadata": {},
   "source": [
    "## Data Types\n",
    "As any other object, you can get information about its type via the built-in function [type()](https://docs.python.org/3/library/functions.html#type)."
   ]
  },
  {
   "cell_type": "code",
   "execution_count": 8,
   "metadata": {},
   "outputs": [
    {
     "output_type": "execute_result",
     "data": {
      "text/plain": "int"
     },
     "metadata": {},
     "execution_count": 8
    }
   ],
   "source": [
    "type(age)"
   ]
  },
  {
   "cell_type": "code",
   "execution_count": 9,
   "metadata": {},
   "outputs": [
    {
     "output_type": "execute_result",
     "data": {
      "text/plain": "str"
     },
     "metadata": {},
     "execution_count": 9
    }
   ],
   "source": [
    "type(dog_name)"
   ]
  },
  {
   "cell_type": "code",
   "execution_count": 10,
   "metadata": {},
   "outputs": [
    {
     "output_type": "execute_result",
     "data": {
      "text/plain": "bool"
     },
     "metadata": {},
     "execution_count": 10
    }
   ],
   "source": [
    "type(is_vaccinated)"
   ]
  },
  {
   "cell_type": "markdown",
   "metadata": {},
   "source": [
    "## Combining variables and operations"
   ]
  },
  {
   "cell_type": "code",
   "execution_count": 11,
   "metadata": {},
   "outputs": [],
   "source": [
    "x = 4\n",
    "y = 10"
   ]
  },
  {
   "cell_type": "code",
   "execution_count": 12,
   "metadata": {},
   "outputs": [
    {
     "output_type": "execute_result",
     "data": {
      "text/plain": "-6"
     },
     "metadata": {},
     "execution_count": 12
    }
   ],
   "source": [
    "x-y"
   ]
  },
  {
   "cell_type": "code",
   "execution_count": 13,
   "metadata": {},
   "outputs": [
    {
     "output_type": "execute_result",
     "data": {
      "text/plain": "40"
     },
     "metadata": {},
     "execution_count": 13
    }
   ],
   "source": [
    "x*y"
   ]
  },
  {
   "cell_type": "code",
   "execution_count": 14,
   "metadata": {},
   "outputs": [
    {
     "output_type": "execute_result",
     "data": {
      "text/plain": "2.5"
     },
     "metadata": {},
     "execution_count": 14
    }
   ],
   "source": [
    "y/x"
   ]
  },
  {
   "cell_type": "code",
   "execution_count": 15,
   "metadata": {},
   "outputs": [
    {
     "output_type": "execute_result",
     "data": {
      "text/plain": "10000"
     },
     "metadata": {},
     "execution_count": 15
    }
   ],
   "source": [
    "y**x"
   ]
  },
  {
   "cell_type": "code",
   "execution_count": 16,
   "metadata": {},
   "outputs": [
    {
     "output_type": "execute_result",
     "data": {
      "text/plain": "False"
     },
     "metadata": {},
     "execution_count": 16
    }
   ],
   "source": [
    "x>y"
   ]
  },
  {
   "cell_type": "code",
   "execution_count": 17,
   "metadata": {},
   "outputs": [
    {
     "output_type": "execute_result",
     "data": {
      "text/plain": "False"
     },
     "metadata": {},
     "execution_count": 17
    }
   ],
   "source": [
    "x==y"
   ]
  },
  {
   "cell_type": "code",
   "execution_count": 18,
   "metadata": {},
   "outputs": [
    {
     "output_type": "execute_result",
     "data": {
      "text/plain": "True"
     },
     "metadata": {},
     "execution_count": 18
    }
   ],
   "source": [
    "y>=x"
   ]
  },
  {
   "cell_type": "markdown",
   "metadata": {},
   "source": [
    "## Binary Operators and Comparisons"
   ]
  },
  {
   "cell_type": "code",
   "execution_count": 19,
   "metadata": {},
   "outputs": [
    {
     "output_type": "execute_result",
     "data": {
      "text/plain": "6"
     },
     "metadata": {},
     "execution_count": 19
    }
   ],
   "source": [
    "2+4"
   ]
  },
  {
   "cell_type": "code",
   "execution_count": 20,
   "metadata": {},
   "outputs": [
    {
     "output_type": "execute_result",
     "data": {
      "text/plain": "30"
     },
     "metadata": {},
     "execution_count": 20
    }
   ],
   "source": [
    "5*6"
   ]
  },
  {
   "cell_type": "code",
   "execution_count": 21,
   "metadata": {},
   "outputs": [
    {
     "output_type": "execute_result",
     "data": {
      "text/plain": "True"
     },
     "metadata": {},
     "execution_count": 21
    }
   ],
   "source": [
    "5>3"
   ]
  },
  {
   "cell_type": "markdown",
   "metadata": {},
   "source": [
    "## The Respective Print statement"
   ]
  },
  {
   "cell_type": "code",
   "execution_count": 22,
   "metadata": {
    "tags": []
   },
   "outputs": [
    {
     "output_type": "stream",
     "name": "stdout",
     "text": "Hello Helk!\n"
    }
   ],
   "source": [
    "print(\"Hello Helk!\")"
   ]
  },
  {
   "cell_type": "markdown",
   "metadata": {},
   "source": [
    "## Control Flows"
   ]
  },
  {
   "cell_type": "markdown",
   "metadata": {},
   "source": [
    "References:\n",
    "* https://docs.python.org/3/tutorial/controlflow.html\n",
    "* https://docs.python.org/3/reference/compound_stmts.html#the-if-statement"
   ]
  },
  {
   "cell_type": "markdown",
   "metadata": {},
   "source": [
    "### If,elif,else statements\n",
    "* The if statement is used for conditional execution\n",
    "* It selects exactly one of the suites by evaluating the expressions one by one until one is found to be true; then that suite is executed. \n",
    "* If all expressions are false, the suite of the else clause, if present, is executed."
   ]
  },
  {
   "cell_type": "code",
   "execution_count": 23,
   "metadata": {
    "tags": []
   },
   "outputs": [
    {
     "output_type": "stream",
     "name": "stdout",
     "text": "x = 4\ny = 10\n"
    }
   ],
   "source": [
    "print(\"x = \" + str(x))\n",
    "print(\"y = \" + str(y))"
   ]
  },
  {
   "cell_type": "code",
   "execution_count": 24,
   "metadata": {
    "tags": []
   },
   "outputs": [
    {
     "output_type": "stream",
     "name": "stdout",
     "text": "no\n"
    }
   ],
   "source": [
    "if x==y:\n",
    "    print('yes')\n",
    "else:\n",
    "    print('no')"
   ]
  },
  {
   "cell_type": "markdown",
   "metadata": {},
   "source": [
    "* An if statement can be optionally followed by one or more elif blocks and a catch-all else block if all of the conditions are False : "
   ]
  },
  {
   "cell_type": "code",
   "execution_count": 25,
   "metadata": {
    "tags": []
   },
   "outputs": [
    {
     "output_type": "stream",
     "name": "stdout",
     "text": "None of the conditionals were true\n"
    }
   ],
   "source": [
    "if x==y:\n",
    "    print('They are equal')\n",
    "elif x > y:\n",
    "    print(\"It is grater than\")\n",
    "else:\n",
    "    print(\"None of the conditionals were true\")"
   ]
  },
  {
   "cell_type": "markdown",
   "metadata": {},
   "source": [
    "## Loops"
   ]
  },
  {
   "cell_type": "markdown",
   "metadata": {},
   "source": [
    "### For\n",
    "The for statement is used to iterate over the elements of a sequence (such as a string, tuple or list) or other iterable object."
   ]
  },
  {
   "cell_type": "code",
   "execution_count": 26,
   "metadata": {},
   "outputs": [],
   "source": [
    "my_dog_list=['Pedro',3,True,2015]"
   ]
  },
  {
   "cell_type": "code",
   "execution_count": 27,
   "metadata": {
    "tags": []
   },
   "outputs": [
    {
     "output_type": "stream",
     "name": "stdout",
     "text": "0\n10\n20\n30\n40\n50\n60\n70\n80\n90\n"
    }
   ],
   "source": [
    "for i in range(0,10):\n",
    "    print(i*10)"
   ]
  },
  {
   "cell_type": "markdown",
   "metadata": {},
   "source": [
    "### While\n",
    "A while loop allows you to execute a block of code until a condition evaluates to false or the loop is ended with a break command."
   ]
  },
  {
   "cell_type": "code",
   "execution_count": 28,
   "metadata": {
    "tags": []
   },
   "outputs": [
    {
     "output_type": "stream",
     "name": "stdout",
     "text": "1\n4\n9\n16\n25\n"
    }
   ],
   "source": [
    "i = 1\n",
    "while i <= 5:\n",
    "    print(i ** 2)\n",
    "    i += 1"
   ]
  },
  {
   "cell_type": "code",
   "execution_count": 29,
   "metadata": {
    "tags": []
   },
   "outputs": [
    {
     "output_type": "stream",
     "name": "stdout",
     "text": "1\n4\n9\n16\n25\n"
    }
   ],
   "source": [
    "i = 1\n",
    "while i > 0:\n",
    "    if i > 5:\n",
    "        break\n",
    "    print(i ** 2)\n",
    "    i += 1"
   ]
  },
  {
   "cell_type": "markdown",
   "metadata": {},
   "source": [
    "## Data structures"
   ]
  },
  {
   "cell_type": "markdown",
   "metadata": {},
   "source": [
    "References:\n",
    "* https://docs.python.org/3/tutorial/datastructures.html\n",
    "* https://python.swaroopch.com/data_structures.html"
   ]
  },
  {
   "cell_type": "markdown",
   "metadata": {},
   "source": [
    "### Lists\n",
    "* Lists are data structures that allow you to define an ordered collection of items.\n",
    "* Lists are constructed with square brackets, separating items with commas: [a, b, c].\n",
    "* Lists are mutable objects which means that you can modify the values contained in them.\n",
    "* The elements of a list can be of different types (string, integer, etc)"
   ]
  },
  {
   "cell_type": "code",
   "execution_count": 30,
   "metadata": {},
   "outputs": [],
   "source": [
    "my_dog_list=['Pedro',3,True,2015]"
   ]
  },
  {
   "cell_type": "code",
   "execution_count": 31,
   "metadata": {},
   "outputs": [
    {
     "output_type": "execute_result",
     "data": {
      "text/plain": "'Pedro'"
     },
     "metadata": {},
     "execution_count": 31
    }
   ],
   "source": [
    "my_dog_list[0]"
   ]
  },
  {
   "cell_type": "code",
   "execution_count": 32,
   "metadata": {},
   "outputs": [
    {
     "output_type": "execute_result",
     "data": {
      "text/plain": "[True, 2015]"
     },
     "metadata": {},
     "execution_count": 32
    }
   ],
   "source": [
    "my_dog_list[2:4]"
   ]
  },
  {
   "cell_type": "code",
   "execution_count": 33,
   "metadata": {
    "tags": []
   },
   "outputs": [
    {
     "output_type": "stream",
     "name": "stdout",
     "text": "My dog's name is Pedro and he is 3 years old.\n"
    }
   ],
   "source": [
    "print(\"My dog's name is \" + str(my_dog_list[0]) + \" and he is \" + str(my_dog_list[1]) + \" years old.\")"
   ]
  },
  {
   "cell_type": "markdown",
   "metadata": {},
   "source": [
    "* The list data type has some more methods an you can find them [here](https://docs.python.org/3/tutorial/datastructures.html#more-on-lists).\n",
    "* One in particular is the `list.append()` which allows you to add an item to the end of the list. Equivalent to `a[len(a):] = [x]`.\n"
   ]
  },
  {
   "cell_type": "code",
   "execution_count": 34,
   "metadata": {},
   "outputs": [],
   "source": [
    "my_dog_list.append(\"tennis balls\")"
   ]
  },
  {
   "cell_type": "code",
   "execution_count": 35,
   "metadata": {},
   "outputs": [
    {
     "output_type": "execute_result",
     "data": {
      "text/plain": "['Pedro', 3, True, 2015, 'tennis balls']"
     },
     "metadata": {},
     "execution_count": 35
    }
   ],
   "source": [
    "my_dog_list"
   ]
  },
  {
   "cell_type": "markdown",
   "metadata": {},
   "source": [
    "* You can modify the list values too:"
   ]
  },
  {
   "cell_type": "code",
   "execution_count": null,
   "metadata": {},
   "outputs": [],
   "source": [
    "my_dog_list[1] = 4\n",
    "my_dog_list"
   ]
  },
  {
   "cell_type": "markdown",
   "metadata": {},
   "source": [
    "### Dictionaries\n",
    "* Dictionaries are sometimes found in other languages as “associative memories” or “associative arrays”. \n",
    "* Dictionaries are indexed by keys, which can be any immutable type; strings and numbers can always be keys.\n",
    "* It is best to think of a dictionary as a set of key: value pairs, with the requirement that the keys are unique (within one dictionary).\n",
    "* A pair of braces creates an empty dictionary: {}.\n",
    "* Remember that key-value pairs in a dictionary are not ordered in any manner. If you want a particular order, then you will have to sort them yourself before using it."
   ]
  },
  {
   "cell_type": "code",
   "execution_count": 36,
   "metadata": {},
   "outputs": [],
   "source": [
    "my_dog_dict={'name':'Pedro','age':3,'is_vaccinated':True,'birth_year':2015}"
   ]
  },
  {
   "cell_type": "code",
   "execution_count": 37,
   "metadata": {},
   "outputs": [
    {
     "output_type": "execute_result",
     "data": {
      "text/plain": "{'name': 'Pedro', 'age': 3, 'is_vaccinated': True, 'birth_year': 2015}"
     },
     "metadata": {},
     "execution_count": 37
    }
   ],
   "source": [
    "my_dog_dict"
   ]
  },
  {
   "cell_type": "code",
   "execution_count": 38,
   "metadata": {},
   "outputs": [
    {
     "output_type": "execute_result",
     "data": {
      "text/plain": "3"
     },
     "metadata": {},
     "execution_count": 38
    }
   ],
   "source": [
    "my_dog_dict['age']"
   ]
  },
  {
   "cell_type": "code",
   "execution_count": 39,
   "metadata": {},
   "outputs": [
    {
     "output_type": "execute_result",
     "data": {
      "text/plain": "dict_keys(['name', 'age', 'is_vaccinated', 'birth_year'])"
     },
     "metadata": {},
     "execution_count": 39
    }
   ],
   "source": [
    "my_dog_dict.keys()"
   ]
  },
  {
   "cell_type": "code",
   "execution_count": 40,
   "metadata": {},
   "outputs": [
    {
     "output_type": "execute_result",
     "data": {
      "text/plain": "dict_values(['Pedro', 3, True, 2015])"
     },
     "metadata": {},
     "execution_count": 40
    }
   ],
   "source": [
    "my_dog_dict.values()"
   ]
  },
  {
   "cell_type": "markdown",
   "metadata": {},
   "source": [
    "### Tuples\n",
    "* A tuple consists of a number of values separated by commas\n",
    "* On output tuples are always enclosed in parentheses, so that nested tuples are interpreted correctly; they may be input with or without surrounding parentheses, although often parentheses are necessary anyway (if the tuple is part of a larger expression)."
   ]
  },
  {
   "cell_type": "code",
   "execution_count": 41,
   "metadata": {},
   "outputs": [],
   "source": [
    "my_dog_tuple=('Pedro',3,True,2015)"
   ]
  },
  {
   "cell_type": "code",
   "execution_count": 42,
   "metadata": {},
   "outputs": [
    {
     "output_type": "execute_result",
     "data": {
      "text/plain": "('Pedro', 3, True, 2015)"
     },
     "metadata": {},
     "execution_count": 42
    }
   ],
   "source": [
    "my_dog_tuple"
   ]
  },
  {
   "cell_type": "markdown",
   "metadata": {},
   "source": [
    "* Tuples are immutable, and usually contain a heterogeneous sequence of elements that are accessed via unpacking or indexing.\n",
    "* Lists are mutable, and their elements are usually homogeneous and are accessed by iterating over the list."
   ]
  },
  {
   "cell_type": "code",
   "execution_count": 43,
   "metadata": {},
   "outputs": [
    {
     "output_type": "execute_result",
     "data": {
      "text/plain": "3"
     },
     "metadata": {},
     "execution_count": 43
    }
   ],
   "source": [
    "my_dog_tuple[1]"
   ]
  },
  {
   "cell_type": "markdown",
   "metadata": {},
   "source": [
    "## Slicing\n",
    "You can select sections of most sequence types by using slice notation, which in its basic form consists of\n",
    "start:stop passed to the indexing operator []"
   ]
  },
  {
   "cell_type": "code",
   "execution_count": 44,
   "metadata": {},
   "outputs": [
    {
     "output_type": "execute_result",
     "data": {
      "text/plain": "[2, 3, 7, 5]"
     },
     "metadata": {},
     "execution_count": 44
    }
   ],
   "source": [
    "seq = [ 7 , 2 , 3 , 7 , 5 , 6 , 0 , 1 ]\n",
    "seq [ 1 : 5 ] "
   ]
  },
  {
   "cell_type": "markdown",
   "metadata": {},
   "source": [
    "## Functions\n",
    "Functions allow you to organize and reuse code blocks. If you repeat the same code across several conditions, you could make that code block a function and re-use it. Functions are declared with the **def** keyword and\n",
    "returned from with the **return** keyword: "
   ]
  },
  {
   "cell_type": "code",
   "execution_count": 45,
   "metadata": {},
   "outputs": [],
   "source": [
    "def square(n):\n",
    "    return n ** 2"
   ]
  },
  {
   "cell_type": "code",
   "execution_count": 46,
   "metadata": {
    "tags": []
   },
   "outputs": [
    {
     "output_type": "stream",
     "name": "stdout",
     "text": "Square root of 2 is 4\n"
    }
   ],
   "source": [
    "print(\"Square root of 2 is \" + str(square(2)))"
   ]
  },
  {
   "cell_type": "code",
   "execution_count": 47,
   "metadata": {},
   "outputs": [],
   "source": [
    "number_list = [1,2,3,4,5]"
   ]
  },
  {
   "cell_type": "code",
   "execution_count": 48,
   "metadata": {
    "tags": []
   },
   "outputs": [
    {
     "output_type": "stream",
     "name": "stdout",
     "text": "Square root of 1 is 1\nSquare root of 2 is 4\nSquare root of 3 is 9\nSquare root of 4 is 16\nSquare root of 5 is 25\n"
    }
   ],
   "source": [
    "for number in number_list:\n",
    "    sn = square(number)\n",
    "    print(\"Square root of \" + str(number) + \" is \" + str(sn))"
   ]
  },
  {
   "cell_type": "markdown",
   "metadata": {},
   "source": [
    "## Modules"
   ]
  },
  {
   "cell_type": "markdown",
   "metadata": {},
   "source": [
    "References:\n",
    "* https://docs.python.org/3/tutorial/modules.html#modules"
   ]
  },
  {
   "cell_type": "markdown",
   "metadata": {},
   "source": [
    "* If you quit from the Python interpreter and enter it again, the definitions you have made (functions and variables) are lost.\n",
    "* Therefore, if you want to write a somewhat longer program, you are better off using a text editor to prepare the input for the interpreter and running it with that file as input instead.\n",
    "* Let's say we define two functions:"
   ]
  },
  {
   "cell_type": "code",
   "execution_count": 49,
   "metadata": {},
   "outputs": [],
   "source": [
    "def square(n):\n",
    "    return n ** 2\n",
    "\n",
    "def cube(n):\n",
    "    return n ** 3"
   ]
  },
  {
   "cell_type": "markdown",
   "metadata": {},
   "source": [
    "* You can save the code above in a file named math.py. I created the file for you already in the current folder.\n",
    "* All you have to do is import the **math_ops.py** file"
   ]
  },
  {
   "cell_type": "code",
   "execution_count": 51,
   "metadata": {},
   "outputs": [],
   "source": [
    "import math_ops"
   ]
  },
  {
   "cell_type": "code",
   "execution_count": 52,
   "metadata": {
    "tags": []
   },
   "outputs": [
    {
     "output_type": "stream",
     "name": "stdout",
     "text": "Square root of 1 is 1\nCube root of 1 is 1\n-------------------------\nSquare root of 2 is 4\nCube root of 2 is 8\n-------------------------\nSquare root of 3 is 9\nCube root of 3 is 27\n-------------------------\nSquare root of 4 is 16\nCube root of 4 is 64\n-------------------------\nSquare root of 5 is 25\nCube root of 5 is 125\n-------------------------\n"
    }
   ],
   "source": [
    "for number in number_list:\n",
    "    sn = square(number)\n",
    "    cn = cube(number)\n",
    "    print(\"Square root of \" + str(number) + \" is \" + str(sn))\n",
    "    print(\"Cube root of \" + str(number) + \" is \" + str(cn))\n",
    "    print(\"-------------------------\")"
   ]
  },
  {
   "cell_type": "markdown",
   "metadata": {},
   "source": [
    "* You can get a list of the current installed modules too"
   ]
  },
  {
   "cell_type": "code",
   "execution_count": 53,
   "metadata": {
    "tags": []
   },
   "outputs": [
    {
     "output_type": "stream",
     "name": "stdout",
     "text": "\nPlease wait a moment while I gather a list of all available modules...\n\nIPython             cProfile            mmapfile            symtable\n__future__          calendar            mmsystem            sys\n_abc                cgi                 modulefinder        sysconfig\n_ast                cgitb               msilib              tabnanny\n_asyncio            chunk               msvcrt              tarfile\n_bisect             cmath               multiprocessing     telnetlib\n_blake2             cmd                 netbios             tempfile\n_bootlocale         code                netrc               test\n_bz2                codecs              nntplib             testing_tools\n_codecs             codeop              normalizeForInterpreter testlauncher\n_codecs_cn          collections         nt                  tests\n_codecs_hk          colorama            ntpath              textwrap\n_codecs_iso2022     colorsys            ntsecuritycon       this\n_codecs_jp          commctrl            nturl2path          threading\n_codecs_kr          compileall          numbers             time\n_codecs_tw          completion          odbc                timeit\n_collections        concurrent          opcode              timer\n_collections_abc    configparser        operator            tkinter\n_compat_pickle      contextlib          optparse            token\n_compression        contextvars         os                  tokenize\n_contextvars        copy                parser              toml\n_csv                copyreg             parso               tornado\n_ctypes             crypt               past                trace\n_ctypes_test        csv                 pathlib             traceback\n_datetime           ctypes              pdb                 tracemalloc\n_decimal            curses              perfmon             traitlets\n_dummy_thread       cythonmagic         pickle              tty\n_elementtree        dataclasses         pickleshare         turtle\n_functools          datetime            pickletools         turtledemo\n_hashlib            dateutil            pip                 types\n_heapq              dbi                 pipes               typing\n_imp                dbm                 pkg_resources       unicodedata\n_io                 dde                 pkgutil             unittest\n_json               debugpy             platform            urllib\n_locale             decimal             plistlib            uu\n_lsprof             decorator           poplib              uuid\n_lzma               difflib             posixpath           venv\n_markupbase         dis                 pprint              visualstudio_py_testlauncher\n_md5                distutils           printEnvVariables   vscode_datascience_helpers\n_msi                doctest             printEnvVariablesToFile warnings\n_multibytecodec     dummy_threading     profile             wave\n_multiprocessing    easy_install        prompt_toolkit      wcwidth\n_opcode             email               pstats              weakref\n_operator           encodings           pty                 webbrowser\n_osx_support        ensurepip           py_compile          win2kras\n_overlapped         enum                pyclbr              win32api\n_pickle             errno               pydoc               win32clipboard\n_py_abc             faulthandler        pydoc_data          win32com\n_pydecimal          filecmp             pyexpat             win32con\n_pyio               fileinput           pygments            win32console\n_queue              fnmatch             pylint              win32cred\n_random             formatter           pyls_jsonrpc        win32crypt\n_sha1               fractions           pythoncom           win32cryptcon\n_sha256             ftplib              pyvsc-run-isolated  win32event\n_sha3               functools           pywin               win32evtlog\n_sha512             future              pywin32_bootstrap   win32evtlogutil\n_signal             gc                  pywin32_testutil    win32file\n_sitebuiltins       genericpath         pywintypes          win32gui\n_socket             get-quote           queue               win32gui_struct\n_sqlite3            getopt              quopri              win32help\n_sre                getpass             random              win32inet\n_ssl                gettext             rasutil             win32inetcon\n_stat               glob                re                  win32job\n_statistics         gzip                refactor            win32lz\n_string             hashlib             regcheck            win32net\n_strptime           heapq               regutil             win32netcon\n_struct             hmac                reprlib             win32pdh\n_symtable           html                rlcompleter         win32pdhquery\n_testbuffer         http                rmagic              win32pdhutil\n_testcapi           idlelib             runpy               win32pipe\n_testconsole        imaplib             sched               win32print\n_testimportmultiple imghdr              secrets             win32process\n_testmultiphase     imp                 select              win32profile\n_thread             importlib           selectors           win32ras\n_threading_local    inspect             servicemanager      win32rcparser\n_tkinter            install_debugpy     setuptools          win32security\n_tracemalloc        interpreterInfo     shell_exec          win32service\n_warnings           io                  shelve              win32serviceutil\n_weakref            ipaddress           shlex               win32timezone\n_weakrefset         ipykernel           shutil              win32trace\n_win32sysloader     ipykernel_launcher  signal              win32traceutil\n_winapi             ipython_genutils    site                win32transaction\n_winxptheme         isapi               six                 win32ts\n_xxsubinterpreters  isort               smtpd               win32ui\nabc                 itertools           smtplib             win32uiole\nadodbapi            jedi                sndhdr              win32verstamp\nafxres              json                socket              win32wnet\naifc                jupyter             socketserver        winerror\nantigravity         jupyter_client      sortImports         winioctlcon\nargparse            jupyter_core        sqlite3             winnt\narray               keyword             sre_compile         winperf\nast                 lazy_object_proxy   sre_constants       winreg\nastroid             lib2to3             sre_parse           winsound\nasynchat            libfuturize         ssl                 winxpgui\nasyncio             libpasteurize       sspi                winxptheme\nasyncore            linecache           sspicon             wrapt\natexit              locale              stat                wsgiref\naudioop             logging             statistics          xdrlib\nautoreload          lzma                storemagic          xml\nbackcall            mailbox             string              xmlrpc\nbase64              mailcap             stringprep          xxsubtype\nbdb                 marshal             struct              zipapp\nbinascii            math                subprocess          zipfile\nbinhex              math_ops            sunau               zipimport\nbisect              mccabe              symbol              zlib\nbuiltins            mimetypes           symbolProvider      zmq\nbz2                 mmap                sympyprinting       \n\nEnter any module name to get more help.  Or, type \"modules spam\" to search\nfor modules whose name or summary contain the string \"spam\".\n\n"
    }
   ],
   "source": [
    "help('modules')"
   ]
  },
  {
   "cell_type": "markdown",
   "metadata": {},
   "source": [
    "* Let's import the **datetime** module."
   ]
  },
  {
   "cell_type": "code",
   "execution_count": 54,
   "metadata": {},
   "outputs": [],
   "source": [
    "import datetime"
   ]
  },
  {
   "cell_type": "markdown",
   "metadata": {},
   "source": [
    "* Explore the **datetime** available methods. You can do that by typing the module name, a period after that and pressing the **tab** key or by using the the built-in functionn **dir()** as shown below:"
   ]
  },
  {
   "cell_type": "code",
   "execution_count": 55,
   "metadata": {},
   "outputs": [
    {
     "output_type": "execute_result",
     "data": {
      "text/plain": "['MAXYEAR',\n 'MINYEAR',\n '__builtins__',\n '__cached__',\n '__doc__',\n '__file__',\n '__loader__',\n '__name__',\n '__package__',\n '__spec__',\n 'date',\n 'datetime',\n 'datetime_CAPI',\n 'sys',\n 'time',\n 'timedelta',\n 'timezone',\n 'tzinfo']"
     },
     "metadata": {},
     "execution_count": 55
    }
   ],
   "source": [
    "dir(datetime)"
   ]
  },
  {
   "cell_type": "markdown",
   "metadata": {},
   "source": [
    "* You can also import a module with a custom name"
   ]
  },
  {
   "cell_type": "code",
   "execution_count": 57,
   "metadata": {},
   "outputs": [],
   "source": [
    "import datetime as dt"
   ]
  },
  {
   "cell_type": "code",
   "execution_count": 58,
   "metadata": {},
   "outputs": [
    {
     "output_type": "execute_result",
     "data": {
      "text/plain": "['MAXYEAR',\n 'MINYEAR',\n '__builtins__',\n '__cached__',\n '__doc__',\n '__file__',\n '__loader__',\n '__name__',\n '__package__',\n '__spec__',\n 'date',\n 'datetime',\n 'datetime_CAPI',\n 'sys',\n 'time',\n 'timedelta',\n 'timezone',\n 'tzinfo']"
     },
     "metadata": {},
     "execution_count": 58
    }
   ],
   "source": [
    "dir(dt)"
   ]
  },
  {
   "cell_type": "code",
   "execution_count": null,
   "metadata": {},
   "outputs": [],
   "source": []
  }
 ],
 "metadata": {
  "kernelspec": {
   "display_name": "Python 3.8.5 64-bit",
   "language": "python",
   "name": "python_defaultSpec_1595894164725"
  },
  "language_info": {
   "codemirror_mode": {
    "name": "ipython",
    "version": 3
   },
   "file_extension": ".py",
   "mimetype": "text/x-python",
   "name": "python",
   "nbconvert_exporter": "python",
   "pygments_lexer": "ipython3",
   "version": "3.7.3"
  }
 },
 "nbformat": 4,
 "nbformat_minor": 2
}